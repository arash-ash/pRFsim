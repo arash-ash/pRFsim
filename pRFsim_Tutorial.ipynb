{
  "nbformat": 4,
  "nbformat_minor": 0,
  "metadata": {
    "colab": {
      "name": "pRFsim_Tutorial.ipynb",
      "version": "0.3.2",
      "provenance": [],
      "collapsed_sections": []
    },
    "kernelspec": {
      "name": "python3",
      "display_name": "Python 3"
    },
    "accelerator": "GPU"
  },
  "cells": [
    {
      "cell_type": "markdown",
      "metadata": {
        "id": "view-in-github",
        "colab_type": "text"
      },
      "source": [
        "[View in Colaboratory](https://colab.research.google.com/github/arash-ash/pRFsim/blob/master/pRFsim_Tutorial.ipynb)"
      ]
    },
    {
      "metadata": {
        "id": "iuBFV1GhznqN",
        "colab_type": "code",
        "colab": {
          "base_uri": "https://localhost:8080/",
          "height": 310
        },
        "outputId": "d7270d2b-a185-4692-e9da-2e62e6f42279"
      },
      "cell_type": "code",
      "source": [
        "!pip install git+https://github.com/arash-ash/pRFsim.git"
      ],
      "execution_count": 48,
      "outputs": [
        {
          "output_type": "stream",
          "text": [
            "Collecting git+https://github.com/arash-ash/pRFsim.git\r\n",
            "  Cloning https://github.com/arash-ash/pRFsim.git to /tmp/pip-req-build-khm20q5d\n",
            "Requirement already satisfied (use --upgrade to upgrade): prfsim==0.1.10 from git+https://github.com/arash-ash/pRFsim.git in /usr/local/lib/python3.6/dist-packages\n",
            "Requirement already satisfied: numpy in /usr/local/lib/python3.6/dist-packages (from prfsim==0.1.10) (1.14.3)\n",
            "Requirement already satisfied: scipy in /usr/local/lib/python3.6/dist-packages (from prfsim==0.1.10) (0.19.1)\n",
            "Requirement already satisfied: nibabel in /usr/local/lib/python3.6/dist-packages (from prfsim==0.1.10) (2.2.1)\n",
            "Requirement already satisfied: pandas in /usr/local/lib/python3.6/dist-packages (from prfsim==0.1.10) (0.22.0)\n",
            "Requirement already satisfied: seaborn in /usr/local/lib/python3.6/dist-packages (from prfsim==0.1.10) (0.7.1)\n",
            "Requirement already satisfied: python-dateutil>=2 in /usr/local/lib/python3.6/dist-packages (from pandas->prfsim==0.1.10) (2.5.3)\n",
            "Requirement already satisfied: pytz>=2011k in /usr/local/lib/python3.6/dist-packages (from pandas->prfsim==0.1.10) (2018.4)\n",
            "Requirement already satisfied: six>=1.5 in /usr/local/lib/python3.6/dist-packages (from python-dateutil>=2->pandas->prfsim==0.1.10) (1.11.0)\n",
            "Building wheels for collected packages: prfsim\n",
            "  Running setup.py bdist_wheel for prfsim ... \u001b[?25l-\b \b\\\b \bdone\n",
            "\u001b[?25h  Stored in directory: /tmp/pip-ephem-wheel-cache-g5xrtnox/wheels/12/53/5c/4d216ea97633dc7e012fb22b97224556339290b18fc5b5f756\n",
            "Successfully built prfsim\n"
          ],
          "name": "stdout"
        }
      ]
    },
    {
      "metadata": {
        "id": "m7kNhGd6FJ-E",
        "colab_type": "code",
        "colab": {}
      },
      "cell_type": "code",
      "source": [
        "import prfsim.sim as psim\n",
        "import numpy as np"
      ],
      "execution_count": 0,
      "outputs": []
    },
    {
      "metadata": {
        "id": "KyFjMURwJRuE",
        "colab_type": "code",
        "colab": {
          "base_uri": "https://localhost:8080/",
          "height": 599
        },
        "outputId": "502f0319-fc7d-442c-fa44-70d4d636bd3c"
      },
      "cell_type": "code",
      "source": [
        "dir(psim)"
      ],
      "execution_count": 50,
      "outputs": [
        {
          "output_type": "execute_result",
          "data": {
            "text/plain": [
              "['__builtins__',\n",
              " '__cached__',\n",
              " '__doc__',\n",
              " '__file__',\n",
              " '__loader__',\n",
              " '__name__',\n",
              " '__package__',\n",
              " '__spec__',\n",
              " 'apply_pRF2',\n",
              " 'brute',\n",
              " 'estimateAll',\n",
              " 'estimatePRF',\n",
              " 'factorial',\n",
              " 'figSize',\n",
              " 'gamma',\n",
              " 'generateData',\n",
              " 'generateStim',\n",
              " 'getNeuronalResponse',\n",
              " 'hrf_double_gamma',\n",
              " 'hrf_friston',\n",
              " 'hrf_single_gamma',\n",
              " 'least_squares',\n",
              " 'minimize',\n",
              " 'multivariate_normal',\n",
              " 'norm',\n",
              " 'np',\n",
              " 'pRF_model2',\n",
              " 'pRF_size',\n",
              " 'pd',\n",
              " 'plt',\n",
              " 'sns',\n",
              " 'time']"
            ]
          },
          "metadata": {
            "tags": []
          },
          "execution_count": 50
        }
      ]
    },
    {
      "metadata": {
        "id": "mzXPDjTR0F1b",
        "colab_type": "code",
        "colab": {}
      },
      "cell_type": "code",
      "source": [
        "#@experiment parameters\n",
        "radius = 10\n",
        "precision = 0.1 #@param {type:\"slider\", min:0, max:1.0, step:0.01}\n",
        "barWidth = radius / 4\n",
        "angles = [-90, 45, -180, 315, 90, 225, 0, 135]\n",
        "nFrames = len(angles)*3\n",
        "TR = 3.0\n",
        "TRs = 5 # number of TRs for each frame\n",
        "duration = nFrames*TRs\n",
        "\n",
        "x, y = np.mgrid[-radius:radius:precision,\n",
        "                -radius:radius:precision]\n",
        "pos = np.dstack((x, y))\n",
        "length = len(x[0])\n",
        "nVoxels = 6 #@param {type:\"slider\", min:0, max:100, step:1}\n",
        "\n",
        "# parameters for double gamma distribution function hrf:\n",
        "n1 = 4\n",
        "lmbd1 = 2.0\n",
        "t01 = 0\n",
        "n2 = 7\n",
        "lmbd2 = 3\n",
        "t02 = 0\n",
        "a = 0.3\n",
        "\n",
        "t = np.arange(0,nFrames*TRs*TR,TR)"
      ],
      "execution_count": 0,
      "outputs": []
    },
    {
      "metadata": {
        "id": "T-vQ6L4T0Oko",
        "colab_type": "code",
        "colab": {
          "base_uri": "https://localhost:8080/",
          "height": 264
        },
        "outputId": "48d2ce98-2af6-42d4-ef2f-292240e78622"
      },
      "cell_type": "code",
      "source": [
        "hrf_gen = psim.hrf_double_gamma(t, n1, n2, lmbd1, lmbd2, t01, t02, a)\n",
        "print('HRF generated')\n",
        "hrf_est = hrf_gen\n",
        "\n",
        "stim = psim.generateStim(radius=radius, precision=precision,\n",
        "                    barWidth=barWidth, angles=angles,\n",
        "                    nFrames=nFrames, length=length,\n",
        "\t\t                TR=TR, TRs=TRs, isCheckerboard=False)\n",
        "print('stimulus generated')\n",
        "\n",
        "\n",
        "neuronal_responses = psim.getNeuronalResponse(stim=stim, nVoxels=nVoxels,\n",
        "                                        radius=radius, precision=precision,\n",
        "                                        duration=duration)\n",
        "print('Neuronal responses generated')\n",
        "\n",
        "\n",
        "bolds = psim.generateData(neuronal_responses=neuronal_responses,\n",
        "                     hrf=hrf_gen,\n",
        "                     duration=duration, nVoxels=nVoxels)\n",
        "print('BOLD responses generated')\n",
        "\n",
        "\n",
        "print('pRF estimations started...')\n",
        "results = psim.estimateAll(bolds=bolds, stim=stim,\n",
        "                      hrf=hrf_est, radius=radius,\n",
        "                      precision=precision,\n",
        "                      nVoxels=nVoxels, margin = 1)\n",
        "print('pRF estimation errors generated')"
      ],
      "execution_count": 52,
      "outputs": [
        {
          "output_type": "stream",
          "text": [
            "HRF generated\n"
          ],
          "name": "stdout"
        },
        {
          "output_type": "error",
          "ename": "TypeError",
          "evalue": "ignored",
          "traceback": [
            "\u001b[0;31m---------------------------------------------------------------------------\u001b[0m",
            "\u001b[0;31mTypeError\u001b[0m                                 Traceback (most recent call last)",
            "\u001b[0;32m<ipython-input-52-76c619dc2a7e>\u001b[0m in \u001b[0;36m<module>\u001b[0;34m()\u001b[0m\n\u001b[1;32m      6\u001b[0m                     \u001b[0mbarWidth\u001b[0m\u001b[0;34m=\u001b[0m\u001b[0mbarWidth\u001b[0m\u001b[0;34m,\u001b[0m \u001b[0mangles\u001b[0m\u001b[0;34m=\u001b[0m\u001b[0mangles\u001b[0m\u001b[0;34m,\u001b[0m\u001b[0;34m\u001b[0m\u001b[0m\n\u001b[1;32m      7\u001b[0m                     \u001b[0mnFrames\u001b[0m\u001b[0;34m=\u001b[0m\u001b[0mnFrames\u001b[0m\u001b[0;34m,\u001b[0m \u001b[0mlength\u001b[0m\u001b[0;34m=\u001b[0m\u001b[0mlength\u001b[0m\u001b[0;34m,\u001b[0m\u001b[0;34m\u001b[0m\u001b[0m\n\u001b[0;32m----> 8\u001b[0;31m \t\t                TR=TR, TRs=TRs, isCheckerboard=False)\n\u001b[0m\u001b[1;32m      9\u001b[0m \u001b[0mprint\u001b[0m\u001b[0;34m(\u001b[0m\u001b[0;34m'stimulus generated'\u001b[0m\u001b[0;34m)\u001b[0m\u001b[0;34m\u001b[0m\u001b[0m\n\u001b[1;32m     10\u001b[0m \u001b[0;34m\u001b[0m\u001b[0m\n",
            "\u001b[0;31mTypeError\u001b[0m: generateStim() got an unexpected keyword argument 'isCheckerboard'"
          ]
        }
      ]
    },
    {
      "metadata": {
        "id": "2pJML1610Q_j",
        "colab_type": "code",
        "colab": {}
      },
      "cell_type": "code",
      "source": [
        ""
      ],
      "execution_count": 0,
      "outputs": []
    }
  ]
}